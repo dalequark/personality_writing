{
 "cells": [
  {
   "cell_type": "code",
   "execution_count": 37,
   "metadata": {
    "collapsed": true
   },
   "outputs": [],
   "source": [
    "%matplotlib inline\n",
    "import pandas as pd\n",
    "import matplotlib.pyplot as plt"
   ]
  },
  {
   "cell_type": "markdown",
   "metadata": {},
   "source": [
    "This data set is collected from a site called [Personality Cafe](http://personalitycafe.com/) (I stole it from [Kaggle](https://www.kaggle.com/datasnaek/mbti-type)).\n",
    "\n",
    "It contains people's [Myers-Briggs Personality](https://en.wikipedia.org/wiki/Myers–Briggs_Type_Indicator) types as well as posts they made on the site."
   ]
  },
  {
   "cell_type": "code",
   "execution_count": 2,
   "metadata": {
    "collapsed": true
   },
   "outputs": [],
   "source": [
    "data = pd.read_csv('./mbti_1.csv')"
   ]
  },
  {
   "cell_type": "code",
   "execution_count": 4,
   "metadata": {
    "collapsed": false
   },
   "outputs": [
    {
     "data": {
      "text/html": [
       "<div>\n",
       "<table border=\"1\" class=\"dataframe\">\n",
       "  <thead>\n",
       "    <tr style=\"text-align: right;\">\n",
       "      <th></th>\n",
       "      <th>type</th>\n",
       "      <th>posts</th>\n",
       "    </tr>\n",
       "  </thead>\n",
       "  <tbody>\n",
       "    <tr>\n",
       "      <th>0</th>\n",
       "      <td>INFJ</td>\n",
       "      <td>'http://www.youtube.com/watch?v=qsXHcwe3krw|||...</td>\n",
       "    </tr>\n",
       "    <tr>\n",
       "      <th>1</th>\n",
       "      <td>ENTP</td>\n",
       "      <td>'I'm finding the lack of me in these posts ver...</td>\n",
       "    </tr>\n",
       "    <tr>\n",
       "      <th>2</th>\n",
       "      <td>INTP</td>\n",
       "      <td>'Good one  _____   https://www.youtube.com/wat...</td>\n",
       "    </tr>\n",
       "    <tr>\n",
       "      <th>3</th>\n",
       "      <td>INTJ</td>\n",
       "      <td>'Dear INTP,   I enjoyed our conversation the o...</td>\n",
       "    </tr>\n",
       "    <tr>\n",
       "      <th>4</th>\n",
       "      <td>ENTJ</td>\n",
       "      <td>'You're fired.|||That's another silly misconce...</td>\n",
       "    </tr>\n",
       "  </tbody>\n",
       "</table>\n",
       "</div>"
      ],
      "text/plain": [
       "   type                                              posts\n",
       "0  INFJ  'http://www.youtube.com/watch?v=qsXHcwe3krw|||...\n",
       "1  ENTP  'I'm finding the lack of me in these posts ver...\n",
       "2  INTP  'Good one  _____   https://www.youtube.com/wat...\n",
       "3  INTJ  'Dear INTP,   I enjoyed our conversation the o...\n",
       "4  ENTJ  'You're fired.|||That's another silly misconce..."
      ]
     },
     "execution_count": 4,
     "metadata": {},
     "output_type": "execute_result"
    }
   ],
   "source": [
    "data.head()"
   ]
  },
  {
   "cell_type": "markdown",
   "metadata": {},
   "source": [
    "In the \"type\" column, above, consists of personality types denoted in four letters. For now we'll just focus on the first column, which is either the letter 'I' for introvert or 'E' for extrovert.\n",
    "\n",
    "The \"posts\" column contains the last 50 posts a user made, each seperated by '|||'"
   ]
  },
  {
   "cell_type": "markdown",
   "metadata": {},
   "source": [
    "## Introverted v Extroverted"
   ]
  },
  {
   "cell_type": "code",
   "execution_count": 18,
   "metadata": {
    "collapsed": true
   },
   "outputs": [],
   "source": [
    "def isExtroverted(in_string):\n",
    "    if in_string[0] == 'I':\n",
    "        return False\n",
    "    elif in_string[0] == 'E':\n",
    "        return True\n",
    "    else:\n",
    "        raise Exception('Found neither I nor E: ' + in_string[0]) \n"
   ]
  },
  {
   "cell_type": "code",
   "execution_count": 31,
   "metadata": {
    "collapsed": false
   },
   "outputs": [],
   "source": [
    "data['extroverted'] = data['type'].map(isExtroverted)"
   ]
  },
  {
   "cell_type": "markdown",
   "metadata": {},
   "source": [
    "What percent of our data set is introverted versus extroverted?"
   ]
  },
  {
   "cell_type": "code",
   "execution_count": 55,
   "metadata": {
    "collapsed": false
   },
   "outputs": [
    {
     "data": {
      "text/plain": [
       "<matplotlib.text.Text at 0x115d08f10>"
      ]
     },
     "execution_count": 55,
     "metadata": {},
     "output_type": "execute_result"
    },
    {
     "data": {
      "image/png": "[encoded data removed]",
      "text/plain": [
       "<matplotlib.figure.Figure at 0x115b84290>"
      ]
     },
     "metadata": {},
     "output_type": "display_data"
    }
   ],
   "source": [
    "data.groupby('extroverted').count()['posts'].plot.pie(autopct='%1.0f%%')\n",
    "plt.title(\"Percent Extroverted\")"
   ]
  },
  {
   "cell_type": "markdown",
   "metadata": {},
   "source": [
    "Only 23% of our users are extroverted--not so shocking for a web forum...\n",
    "\n",
    "Anyway, we want to see the difference in how introverts and extroverts post. So let's choose an equal sample of \n",
    "introverts and extroverts to work with. Since we have only 1999 extroverts, let's grab a sample of ~4000 that's split 50/50 introvert/extrovert."
   ]
  },
  {
   "cell_type": "code",
   "execution_count": 58,
   "metadata": {
    "collapsed": false
   },
   "outputs": [],
   "source": [
    "sample = data[data.extroverted].sample(1999)\n",
    "sample = sample.append(data[~data.extroverted].sample(1999))"
   ]
  },
  {
   "cell_type": "code",
   "execution_count": 60,
   "metadata": {
    "collapsed": false
   },
   "outputs": [
    {
     "data": {
      "text/html": [
       "<div>\n",
       "<table border=\"1\" class=\"dataframe\">\n",
       "  <thead>\n",
       "    <tr style=\"text-align: right;\">\n",
       "      <th></th>\n",
       "      <th>type</th>\n",
       "      <th>posts</th>\n",
       "    </tr>\n",
       "    <tr>\n",
       "      <th>extroverted</th>\n",
       "      <th></th>\n",
       "      <th></th>\n",
       "    </tr>\n",
       "  </thead>\n",
       "  <tbody>\n",
       "    <tr>\n",
       "      <th>False</th>\n",
       "      <td>1999</td>\n",
       "      <td>1999</td>\n",
       "    </tr>\n",
       "    <tr>\n",
       "      <th>True</th>\n",
       "      <td>1999</td>\n",
       "      <td>1999</td>\n",
       "    </tr>\n",
       "  </tbody>\n",
       "</table>\n",
       "</div>"
      ],
      "text/plain": [
       "             type  posts\n",
       "extroverted             \n",
       "False        1999   1999\n",
       "True         1999   1999"
      ]
     },
     "execution_count": 60,
     "metadata": {},
     "output_type": "execute_result"
    }
   ],
   "source": [
    "sample.groupby('extroverted').count()"
   ]
  },
  {
   "cell_type": "markdown",
   "metadata": {},
   "source": [
    "## Text Tokens"
   ]
  },
  {
   "cell_type": "markdown",
   "metadata": {},
   "source": [
    "We're going to analyze users' posts in the simplest way possible--by looking at the words that they use. So the first step is to clean up the data, and create a column that contains the words a user's used without spaces, punctuation, or other artifacts."
   ]
  },
  {
   "cell_type": "code",
   "execution_count": 102,
   "metadata": {
    "collapsed": true
   },
   "outputs": [],
   "source": [
    "from nltk.tokenize import wordpunct_tokenize\n",
    "import re\n",
    "from nltk.corpus import stopwords"
   ]
  },
  {
   "cell_type": "code",
   "execution_count": 103,
   "metadata": {
    "collapsed": false
   },
   "outputs": [],
   "source": [
    "# These are boring, filler words -- things like 'a', 'the', 'we', etc\n",
    "stopwords = stopwords.words('english') "
   ]
  },
  {
   "cell_type": "code",
   "execution_count": 67,
   "metadata": {
    "collapsed": false
   },
   "outputs": [],
   "source": [
    "sample = sample.reset_index()"
   ]
  },
  {
   "cell_type": "code",
   "execution_count": 104,
   "metadata": {
    "collapsed": false
   },
   "outputs": [],
   "source": [
    "def tokenize(posts):\n",
    "    \n",
    "    # Replace |||--which means a new post has started--with a space\n",
    "    posts = posts.replace('|||', ' ')\n",
    "    \n",
    "    # Remove urls (https://stackoverflow.com/questions/11331982/how-to-remove-any-url-within-a-string-in-python)\n",
    "    posts = re.sub(r'http\\S+', '', posts)\n",
    "    \n",
    "    posts = posts.lower() # make everything lowercase\n",
    "    \n",
    "    # wordpunct_tokenize splits words by spacse or punctation, and returns an array of words\n",
    "    posts = wordpunct_tokenize(posts)\n",
    "    \n",
    "    # remove the stopwords\n",
    "    return [x for x in posts if not x in stopwords]"
   ]
  },
  {
   "cell_type": "code",
   "execution_count": 105,
   "metadata": {
    "collapsed": false
   },
   "outputs": [
    {
     "name": "stderr",
     "output_type": "stream",
     "text": [
      "/Library/Python/2.7/site-packages/ipykernel/__main__.py:15: UnicodeWarning: Unicode equal comparison failed to convert both arguments to Unicode - interpreting them as being unequal\n"
     ]
    }
   ],
   "source": [
    "sample['tokens'] = sample['posts'].map(tokenize) # This could take a while..."
   ]
  },
  {
   "cell_type": "markdown",
   "metadata": {},
   "source": [
    "## Text Summary"
   ]
  },
  {
   "cell_type": "markdown",
   "metadata": {},
   "source": [
    "Next we're going to take a look at which words extroverts use more than introverts and vice versa.\n",
    "We'll do this by calculating the difference in word usage frequency in each group, which we'll define as\n",
    "__the percent of users who use a word at least once in any of their posts__."
   ]
  },
  {
   "cell_type": "code",
   "execution_count": 126,
   "metadata": {
    "collapsed": true
   },
   "outputs": [],
   "source": [
    "def getFrequencies(df):\n",
    "    df = df['tokens'].map(set).map(list) # going from a list to a set to a list means we drop duplicates\n",
    "    df = df.sum() # Concatenates all the tokens. warning: THIS COULD TAKE A LONG TIME\n",
    "    return pd.Series(df).value_counts() # Value counts tells us how many users used a given word"
   ]
  },
  {
   "cell_type": "code",
   "execution_count": 127,
   "metadata": {
    "collapsed": true
   },
   "outputs": [],
   "source": [
    "extro_frequencies = getFrequencies(sample[sample.extroverted])"
   ]
  },
  {
   "cell_type": "code",
   "execution_count": 129,
   "metadata": {
    "collapsed": false
   },
   "outputs": [],
   "source": [
    "intro_frequencies = getFrequencies(sample[~sample.extroverted])"
   ]
  },
  {
   "cell_type": "code",
   "execution_count": 132,
   "metadata": {
    "collapsed": false
   },
   "outputs": [
    {
     "data": {
      "text/plain": [
       "'         1999\n",
       ".         1998\n",
       ",         1996\n",
       "...       1996\n",
       "like      1985\n",
       "?         1957\n",
       "think     1935\n",
       "people    1924\n",
       "one       1921\n",
       "know      1906\n",
       ":         1888\n",
       "-         1886\n",
       "get       1862\n",
       "would     1856\n",
       "m         1845\n",
       "really    1832\n",
       "(         1823\n",
       "time      1814\n",
       "well      1766\n",
       "much      1732\n",
       "dtype: int64"
      ]
     },
     "execution_count": 132,
     "metadata": {},
     "output_type": "execute_result"
    }
   ],
   "source": [
    "extro_frequencies.head(20)"
   ]
  },
  {
   "cell_type": "markdown",
   "metadata": {},
   "source": [
    "As we see above, there are some artifacs here--we don't care about apostraphes or periods. But looking further down the list, we see almost all of the extroverts used the word like, think, and people at least once. That's not alone terribly interesting. What we _really_ want to find are the words that extroverts use often that introverts don't and vice versa! \n",
    "\n",
    "Let's start by getting our results back into a dataframe:"
   ]
  },
  {
   "cell_type": "code",
   "execution_count": 151,
   "metadata": {
    "collapsed": false
   },
   "outputs": [],
   "source": [
    "frequenices = pd.DataFrame(extro_frequencies, columns=['extrovert_count'])"
   ]
  },
  {
   "cell_type": "code",
   "execution_count": 152,
   "metadata": {
    "collapsed": false
   },
   "outputs": [],
   "source": [
    "frequencies = frequenices.join(pd.DataFrame(intro_frequencies, columns=['introvert_count'])).fillna(0)"
   ]
  },
  {
   "cell_type": "code",
   "execution_count": 158,
   "metadata": {
    "collapsed": false
   },
   "outputs": [],
   "source": [
    "frequencies = frequencies / 1999 * 100 # Let's look at percentages instead of raw counts"
   ]
  },
  {
   "cell_type": "code",
   "execution_count": 160,
   "metadata": {
    "collapsed": false
   },
   "outputs": [],
   "source": [
    "# The most interesting words are the ones where the difference in percentage usage is the highest\n",
    "frequencies['difference'] = frequencies['extrovert_count'] - frequencies['introvert_count']"
   ]
  },
  {
   "cell_type": "code",
   "execution_count": 168,
   "metadata": {
    "collapsed": false
   },
   "outputs": [
    {
     "data": {
      "text/html": [
       "<div>\n",
       "<table border=\"1\" class=\"dataframe\">\n",
       "  <thead>\n",
       "    <tr style=\"text-align: right;\">\n",
       "      <th></th>\n",
       "      <th>extrovert_count</th>\n",
       "      <th>introvert_count</th>\n",
       "      <th>difference</th>\n",
       "    </tr>\n",
       "  </thead>\n",
       "  <tbody>\n",
       "    <tr>\n",
       "      <th>infp</th>\n",
       "      <td>40.870435</td>\n",
       "      <td>50.825413</td>\n",
       "      <td>-9.954977</td>\n",
       "    </tr>\n",
       "    <tr>\n",
       "      <th>infps</th>\n",
       "      <td>14.507254</td>\n",
       "      <td>22.661331</td>\n",
       "      <td>-8.154077</td>\n",
       "    </tr>\n",
       "    <tr>\n",
       "      <th>music</th>\n",
       "      <td>27.813907</td>\n",
       "      <td>34.867434</td>\n",
       "      <td>-7.053527</td>\n",
       "    </tr>\n",
       "    <tr>\n",
       "      <th>intp</th>\n",
       "      <td>37.118559</td>\n",
       "      <td>43.421711</td>\n",
       "      <td>-6.303152</td>\n",
       "    </tr>\n",
       "    <tr>\n",
       "      <th>family</th>\n",
       "      <td>26.763382</td>\n",
       "      <td>32.616308</td>\n",
       "      <td>-5.852926</td>\n",
       "    </tr>\n",
       "    <tr>\n",
       "      <th>living</th>\n",
       "      <td>16.258129</td>\n",
       "      <td>22.011006</td>\n",
       "      <td>-5.752876</td>\n",
       "    </tr>\n",
       "    <tr>\n",
       "      <th>listening</th>\n",
       "      <td>11.255628</td>\n",
       "      <td>16.808404</td>\n",
       "      <td>-5.552776</td>\n",
       "    </tr>\n",
       "    <tr>\n",
       "      <th>school</th>\n",
       "      <td>39.019510</td>\n",
       "      <td>44.572286</td>\n",
       "      <td>-5.552776</td>\n",
       "    </tr>\n",
       "    <tr>\n",
       "      <th>human</th>\n",
       "      <td>18.509255</td>\n",
       "      <td>23.811906</td>\n",
       "      <td>-5.302651</td>\n",
       "    </tr>\n",
       "    <tr>\n",
       "      <th>books</th>\n",
       "      <td>14.907454</td>\n",
       "      <td>20.110055</td>\n",
       "      <td>-5.202601</td>\n",
       "    </tr>\n",
       "    <tr>\n",
       "      <th>quiet</th>\n",
       "      <td>11.155578</td>\n",
       "      <td>16.308154</td>\n",
       "      <td>-5.152576</td>\n",
       "    </tr>\n",
       "    <tr>\n",
       "      <th>without</th>\n",
       "      <td>38.519260</td>\n",
       "      <td>43.521761</td>\n",
       "      <td>-5.002501</td>\n",
       "    </tr>\n",
       "    <tr>\n",
       "      <th>alone</th>\n",
       "      <td>28.214107</td>\n",
       "      <td>32.966483</td>\n",
       "      <td>-4.752376</td>\n",
       "    </tr>\n",
       "    <tr>\n",
       "      <th>mother</th>\n",
       "      <td>16.858429</td>\n",
       "      <td>21.560780</td>\n",
       "      <td>-4.702351</td>\n",
       "    </tr>\n",
       "    <tr>\n",
       "      <th>song</th>\n",
       "      <td>18.759380</td>\n",
       "      <td>23.411706</td>\n",
       "      <td>-4.652326</td>\n",
       "    </tr>\n",
       "    <tr>\n",
       "      <th>games</th>\n",
       "      <td>13.206603</td>\n",
       "      <td>17.808904</td>\n",
       "      <td>-4.602301</td>\n",
       "    </tr>\n",
       "    <tr>\n",
       "      <th>house</th>\n",
       "      <td>17.508754</td>\n",
       "      <td>22.011006</td>\n",
       "      <td>-4.502251</td>\n",
       "    </tr>\n",
       "    <tr>\n",
       "      <th>rather</th>\n",
       "      <td>34.167084</td>\n",
       "      <td>38.669335</td>\n",
       "      <td>-4.502251</td>\n",
       "    </tr>\n",
       "    <tr>\n",
       "      <th>recently</th>\n",
       "      <td>22.961481</td>\n",
       "      <td>27.363682</td>\n",
       "      <td>-4.402201</td>\n",
       "    </tr>\n",
       "    <tr>\n",
       "      <th>wish</th>\n",
       "      <td>25.912956</td>\n",
       "      <td>30.265133</td>\n",
       "      <td>-4.352176</td>\n",
       "    </tr>\n",
       "    <tr>\n",
       "      <th>intps</th>\n",
       "      <td>13.006503</td>\n",
       "      <td>17.358679</td>\n",
       "      <td>-4.352176</td>\n",
       "    </tr>\n",
       "    <tr>\n",
       "      <th>beautiful</th>\n",
       "      <td>14.207104</td>\n",
       "      <td>18.559280</td>\n",
       "      <td>-4.352176</td>\n",
       "    </tr>\n",
       "    <tr>\n",
       "      <th>dream</th>\n",
       "      <td>12.156078</td>\n",
       "      <td>16.458229</td>\n",
       "      <td>-4.302151</td>\n",
       "    </tr>\n",
       "    <tr>\n",
       "      <th>death</th>\n",
       "      <td>11.705853</td>\n",
       "      <td>16.008004</td>\n",
       "      <td>-4.302151</td>\n",
       "    </tr>\n",
       "    <tr>\n",
       "      <th>hate</th>\n",
       "      <td>38.169085</td>\n",
       "      <td>42.421211</td>\n",
       "      <td>-4.252126</td>\n",
       "    </tr>\n",
       "  </tbody>\n",
       "</table>\n",
       "</div>"
      ],
      "text/plain": [
       "           extrovert_count  introvert_count  difference\n",
       "infp             40.870435        50.825413   -9.954977\n",
       "infps            14.507254        22.661331   -8.154077\n",
       "music            27.813907        34.867434   -7.053527\n",
       "intp             37.118559        43.421711   -6.303152\n",
       "family           26.763382        32.616308   -5.852926\n",
       "living           16.258129        22.011006   -5.752876\n",
       "listening        11.255628        16.808404   -5.552776\n",
       "school           39.019510        44.572286   -5.552776\n",
       "human            18.509255        23.811906   -5.302651\n",
       "books            14.907454        20.110055   -5.202601\n",
       "quiet            11.155578        16.308154   -5.152576\n",
       "without          38.519260        43.521761   -5.002501\n",
       "alone            28.214107        32.966483   -4.752376\n",
       "mother           16.858429        21.560780   -4.702351\n",
       "song             18.759380        23.411706   -4.652326\n",
       "games            13.206603        17.808904   -4.602301\n",
       "house            17.508754        22.011006   -4.502251\n",
       "rather           34.167084        38.669335   -4.502251\n",
       "recently         22.961481        27.363682   -4.402201\n",
       "wish             25.912956        30.265133   -4.352176\n",
       "intps            13.006503        17.358679   -4.352176\n",
       "beautiful        14.207104        18.559280   -4.352176\n",
       "dream            12.156078        16.458229   -4.302151\n",
       "death            11.705853        16.008004   -4.302151\n",
       "hate             38.169085        42.421211   -4.252126"
      ]
     },
     "execution_count": 168,
     "metadata": {},
     "output_type": "execute_result"
    }
   ],
   "source": [
    "# Words used more by introverts than extroverts\n",
    "frequencies.sort_values('difference').head(25)"
   ]
  },
  {
   "cell_type": "code",
   "execution_count": 167,
   "metadata": {
    "collapsed": false
   },
   "outputs": [
    {
     "data": {
      "text/html": [
       "<div>\n",
       "<table border=\"1\" class=\"dataframe\">\n",
       "  <thead>\n",
       "    <tr style=\"text-align: right;\">\n",
       "      <th></th>\n",
       "      <th>extrovert_count</th>\n",
       "      <th>introvert_count</th>\n",
       "      <th>difference</th>\n",
       "    </tr>\n",
       "  </thead>\n",
       "  <tbody>\n",
       "    <tr>\n",
       "      <th>awesome</th>\n",
       "      <td>31.065533</td>\n",
       "      <td>23.811906</td>\n",
       "      <td>7.253627</td>\n",
       "    </tr>\n",
       "    <tr>\n",
       "      <th>super</th>\n",
       "      <td>21.460730</td>\n",
       "      <td>14.157079</td>\n",
       "      <td>7.303652</td>\n",
       "    </tr>\n",
       "    <tr>\n",
       "      <th>!!</th>\n",
       "      <td>22.611306</td>\n",
       "      <td>14.607304</td>\n",
       "      <td>8.004002</td>\n",
       "    </tr>\n",
       "    <tr>\n",
       "      <th>;)</th>\n",
       "      <td>19.509755</td>\n",
       "      <td>11.255628</td>\n",
       "      <td>8.254127</td>\n",
       "    </tr>\n",
       "    <tr>\n",
       "      <th>fun</th>\n",
       "      <td>46.523262</td>\n",
       "      <td>38.069035</td>\n",
       "      <td>8.454227</td>\n",
       "    </tr>\n",
       "    <tr>\n",
       "      <th>lol</th>\n",
       "      <td>45.872936</td>\n",
       "      <td>36.268134</td>\n",
       "      <td>9.604802</td>\n",
       "    </tr>\n",
       "    <tr>\n",
       "      <th>enfj</th>\n",
       "      <td>31.065533</td>\n",
       "      <td>19.859930</td>\n",
       "      <td>11.205603</td>\n",
       "    </tr>\n",
       "    <tr>\n",
       "      <th>estp</th>\n",
       "      <td>27.163582</td>\n",
       "      <td>15.707854</td>\n",
       "      <td>11.455728</td>\n",
       "    </tr>\n",
       "    <tr>\n",
       "      <th>ne</th>\n",
       "      <td>31.365683</td>\n",
       "      <td>19.209605</td>\n",
       "      <td>12.156078</td>\n",
       "    </tr>\n",
       "    <tr>\n",
       "      <th>guys</th>\n",
       "      <td>47.823912</td>\n",
       "      <td>35.017509</td>\n",
       "      <td>12.806403</td>\n",
       "    </tr>\n",
       "    <tr>\n",
       "      <th>entj</th>\n",
       "      <td>35.067534</td>\n",
       "      <td>19.309655</td>\n",
       "      <td>15.757879</td>\n",
       "    </tr>\n",
       "    <tr>\n",
       "      <th>entps</th>\n",
       "      <td>24.612306</td>\n",
       "      <td>7.653827</td>\n",
       "      <td>16.958479</td>\n",
       "    </tr>\n",
       "    <tr>\n",
       "      <th>enfps</th>\n",
       "      <td>26.863432</td>\n",
       "      <td>9.154577</td>\n",
       "      <td>17.708854</td>\n",
       "    </tr>\n",
       "    <tr>\n",
       "      <th>enfp</th>\n",
       "      <td>57.428714</td>\n",
       "      <td>30.615308</td>\n",
       "      <td>26.813407</td>\n",
       "    </tr>\n",
       "    <tr>\n",
       "      <th>entp</th>\n",
       "      <td>52.726363</td>\n",
       "      <td>22.861431</td>\n",
       "      <td>29.864932</td>\n",
       "    </tr>\n",
       "  </tbody>\n",
       "</table>\n",
       "</div>"
      ],
      "text/plain": [
       "         extrovert_count  introvert_count  difference\n",
       "awesome        31.065533        23.811906    7.253627\n",
       "super          21.460730        14.157079    7.303652\n",
       "!!             22.611306        14.607304    8.004002\n",
       ";)             19.509755        11.255628    8.254127\n",
       "fun            46.523262        38.069035    8.454227\n",
       "lol            45.872936        36.268134    9.604802\n",
       "enfj           31.065533        19.859930   11.205603\n",
       "estp           27.163582        15.707854   11.455728\n",
       "ne             31.365683        19.209605   12.156078\n",
       "guys           47.823912        35.017509   12.806403\n",
       "entj           35.067534        19.309655   15.757879\n",
       "entps          24.612306         7.653827   16.958479\n",
       "enfps          26.863432         9.154577   17.708854\n",
       "enfp           57.428714        30.615308   26.813407\n",
       "entp           52.726363        22.861431   29.864932"
      ]
     },
     "execution_count": 167,
     "metadata": {},
     "output_type": "execute_result"
    }
   ],
   "source": [
    "# Words used more by extroverts than introverts\n",
    "frequencies.sort_values('difference').tail(15)"
   ]
  },
  {
   "cell_type": "markdown",
   "metadata": {},
   "source": [
    "Voila! According to data, extroverts are more likely than introverts to use words like: awesome, super, !!, ;), fun, lol--kind of makes sense, right? Where as introverts talk about music, family, listening, quiet, and alone more than extroverts. Plus, we see that both introverts and extroverts list their Myers-Briggs types (that's what those entj, enfp, infp, etc entries are for), which gives us confidence that our analysis is working and that we didn't make a mistake."
   ]
  },
  {
   "cell_type": "code",
   "execution_count": null,
   "metadata": {
    "collapsed": true
   },
   "outputs": [],
   "source": []
  }
 ],
 "metadata": {
  "kernelspec": {
   "display_name": "Python 2",
   "language": "python",
   "name": "python2"
  },
  "language_info": {
   "codemirror_mode": {
    "name": "ipython",
    "version": 2
   },
   "file_extension": ".py",
   "mimetype": "text/x-python",
   "name": "python",
   "nbconvert_exporter": "python",
   "pygments_lexer": "ipython2",
   "version": "2.7.10"
  }
 },
 "nbformat": 4,
 "nbformat_minor": 2
}
